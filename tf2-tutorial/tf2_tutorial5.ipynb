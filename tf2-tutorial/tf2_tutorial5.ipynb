{
  "nbformat": 4,
  "nbformat_minor": 0,
  "metadata": {
    "colab": {
      "name": "tf2-tutorial5.ipynb",
      "provenance": [],
      "collapsed_sections": [],
      "authorship_tag": "ABX9TyM+x5uXxnDWMrWPpqGhmlvn",
      "include_colab_link": true
    },
    "kernelspec": {
      "name": "python3",
      "display_name": "Python 3"
    },
    "accelerator": "GPU"
  },
  "cells": [
    {
      "cell_type": "markdown",
      "metadata": {
        "id": "view-in-github",
        "colab_type": "text"
      },
      "source": [
        "<a href=\"https://colab.research.google.com/github/k-washi/tf2-practice/blob/master/tf2-tutorial/tf2_tutorial5.ipynb\" target=\"_parent\"><img src=\"https://colab.research.google.com/assets/colab-badge.svg\" alt=\"Open In Colab\"/></a>"
      ]
    },
    {
      "cell_type": "code",
      "metadata": {
        "id": "EVaO-Op8Lvdv",
        "colab_type": "code",
        "colab": {
          "base_uri": "https://localhost:8080/",
          "height": 34
        },
        "outputId": "fbfe3c67-77b6-4483-9679-8c2ddb12e1cb"
      },
      "source": [
        "%tensorflow_version 2.x"
      ],
      "execution_count": 1,
      "outputs": [
        {
          "output_type": "stream",
          "text": [
            "TensorFlow 2.x selected.\n"
          ],
          "name": "stdout"
        }
      ]
    },
    {
      "cell_type": "code",
      "metadata": {
        "id": "dK3ZXHOtMAXC",
        "colab_type": "code",
        "colab": {}
      },
      "source": [
        "import tensorflow as tf\n",
        "from tensorflow import keras\n",
        "\n",
        "import numpy as np"
      ],
      "execution_count": 0,
      "outputs": []
    },
    {
      "cell_type": "code",
      "metadata": {
        "id": "kEzgaZeJMGOT",
        "colab_type": "code",
        "colab": {
          "base_uri": "https://localhost:8080/",
          "height": 34
        },
        "outputId": "c06b8397-2d20-4084-9261-9fd7bc5b96f4"
      },
      "source": [
        "tf.__version__"
      ],
      "execution_count": 3,
      "outputs": [
        {
          "output_type": "execute_result",
          "data": {
            "text/plain": [
              "'2.1.0'"
            ]
          },
          "metadata": {
            "tags": []
          },
          "execution_count": 3
        }
      ]
    },
    {
      "cell_type": "code",
      "metadata": {
        "id": "gW6AKG85MJAJ",
        "colab_type": "code",
        "colab": {
          "base_uri": "https://localhost:8080/",
          "height": 51
        },
        "outputId": "cfacba67-2f95-4f81-f42c-8ac76fdaf384"
      },
      "source": [
        "imdb = keras.datasets.imdb\n",
        "\n",
        "(train_data, train_labels), (test_data, test_labels) = imdb.load_data(num_words=10000)"
      ],
      "execution_count": 4,
      "outputs": [
        {
          "output_type": "stream",
          "text": [
            "Downloading data from https://storage.googleapis.com/tensorflow/tf-keras-datasets/imdb.npz\n",
            "17465344/17464789 [==============================] - 0s 0us/step\n"
          ],
          "name": "stdout"
        }
      ]
    },
    {
      "cell_type": "code",
      "metadata": {
        "id": "W8ntbUFUMOWq",
        "colab_type": "code",
        "colab": {
          "base_uri": "https://localhost:8080/",
          "height": 34
        },
        "outputId": "4a6dde60-8540-401d-d8cb-91599771113d"
      },
      "source": [
        "print(\"Training entries: {}, labels: {}\".format(len(train_data), len(train_labels)))"
      ],
      "execution_count": 5,
      "outputs": [
        {
          "output_type": "stream",
          "text": [
            "Training entries: 25000, labels: 25000\n"
          ],
          "name": "stdout"
        }
      ]
    },
    {
      "cell_type": "code",
      "metadata": {
        "id": "rXFe6fL7MYtq",
        "colab_type": "code",
        "colab": {
          "base_uri": "https://localhost:8080/",
          "height": 54
        },
        "outputId": "34b63b2c-b3d0-4729-eefa-099bfb44aaeb"
      },
      "source": [
        "print(train_data[0])"
      ],
      "execution_count": 6,
      "outputs": [
        {
          "output_type": "stream",
          "text": [
            "[1, 14, 22, 16, 43, 530, 973, 1622, 1385, 65, 458, 4468, 66, 3941, 4, 173, 36, 256, 5, 25, 100, 43, 838, 112, 50, 670, 2, 9, 35, 480, 284, 5, 150, 4, 172, 112, 167, 2, 336, 385, 39, 4, 172, 4536, 1111, 17, 546, 38, 13, 447, 4, 192, 50, 16, 6, 147, 2025, 19, 14, 22, 4, 1920, 4613, 469, 4, 22, 71, 87, 12, 16, 43, 530, 38, 76, 15, 13, 1247, 4, 22, 17, 515, 17, 12, 16, 626, 18, 2, 5, 62, 386, 12, 8, 316, 8, 106, 5, 4, 2223, 5244, 16, 480, 66, 3785, 33, 4, 130, 12, 16, 38, 619, 5, 25, 124, 51, 36, 135, 48, 25, 1415, 33, 6, 22, 12, 215, 28, 77, 52, 5, 14, 407, 16, 82, 2, 8, 4, 107, 117, 5952, 15, 256, 4, 2, 7, 3766, 5, 723, 36, 71, 43, 530, 476, 26, 400, 317, 46, 7, 4, 2, 1029, 13, 104, 88, 4, 381, 15, 297, 98, 32, 2071, 56, 26, 141, 6, 194, 7486, 18, 4, 226, 22, 21, 134, 476, 26, 480, 5, 144, 30, 5535, 18, 51, 36, 28, 224, 92, 25, 104, 4, 226, 65, 16, 38, 1334, 88, 12, 16, 283, 5, 16, 4472, 113, 103, 32, 15, 16, 5345, 19, 178, 32]\n"
          ],
          "name": "stdout"
        }
      ]
    },
    {
      "cell_type": "code",
      "metadata": {
        "id": "6vRKNvxHMeyT",
        "colab_type": "code",
        "colab": {
          "base_uri": "https://localhost:8080/",
          "height": 34
        },
        "outputId": "0646026f-197e-4a95-cfa1-cc18f954b4f1"
      },
      "source": [
        "len(train_data[0]), len(train_data[1])"
      ],
      "execution_count": 7,
      "outputs": [
        {
          "output_type": "execute_result",
          "data": {
            "text/plain": [
              "(218, 189)"
            ]
          },
          "metadata": {
            "tags": []
          },
          "execution_count": 7
        }
      ]
    },
    {
      "cell_type": "code",
      "metadata": {
        "id": "XaXQYT0TMgZy",
        "colab_type": "code",
        "colab": {
          "base_uri": "https://localhost:8080/",
          "height": 51
        },
        "outputId": "540b835d-f6a7-4a9e-b95c-381e94282994"
      },
      "source": [
        "# 単語を整数にマッピングする辞書\n",
        "word_index = imdb.get_word_index()\n",
        "\n",
        "# インデックスの最初の方は予約済み\n",
        "\n",
        "word_index = {k:(v+3) for k,v in word_index.items()} \n",
        "word_index[\"<PAD>\"] = 0\n",
        "word_index[\"<START>\"] = 1\n",
        "word_index[\"<UNK>\"] = 2  # unknown\n",
        "word_index[\"<UNUSED>\"] = 3\n",
        "\n",
        "reverse_word_index = dict([(value, key) for (key, value) in word_index.items()])\n",
        "\n",
        "def decode_review(text):\n",
        "    return ' '.join([reverse_word_index.get(i, '?') for i in text])"
      ],
      "execution_count": 8,
      "outputs": [
        {
          "output_type": "stream",
          "text": [
            "Downloading data from https://storage.googleapis.com/tensorflow/tf-keras-datasets/imdb_word_index.json\n",
            "1646592/1641221 [==============================] - 0s 0us/step\n"
          ],
          "name": "stdout"
        }
      ]
    },
    {
      "cell_type": "code",
      "metadata": {
        "id": "Fo4tPWCwM3B8",
        "colab_type": "code",
        "colab": {
          "base_uri": "https://localhost:8080/",
          "height": 34
        },
        "outputId": "0563f7ff-6081-414b-c498-2757b20067d2"
      },
      "source": [
        "print(word_index[\"<PAD>\"])"
      ],
      "execution_count": 11,
      "outputs": [
        {
          "output_type": "stream",
          "text": [
            "0\n"
          ],
          "name": "stdout"
        }
      ]
    },
    {
      "cell_type": "code",
      "metadata": {
        "id": "amvED940Mwhr",
        "colab_type": "code",
        "colab": {
          "base_uri": "https://localhost:8080/",
          "height": 54
        },
        "outputId": "1d20df03-900c-44ff-c2d5-a51239768af3"
      },
      "source": [
        "decode_review(train_data[0])"
      ],
      "execution_count": 10,
      "outputs": [
        {
          "output_type": "execute_result",
          "data": {
            "text/plain": [
              "\"<START> this film was just brilliant casting location scenery story direction everyone's really suited the part they played and you could just imagine being there robert <UNK> is an amazing actor and now the same being director <UNK> father came from the same scottish island as myself so i loved the fact there was a real connection with this film the witty remarks throughout the film were great it was just brilliant so much that i bought the film as soon as it was released for <UNK> and would recommend it to everyone to watch and the fly fishing was amazing really cried at the end it was so sad and you know what they say if you cry at a film it must have been good and this definitely was also <UNK> to the two little boy's that played the <UNK> of norman and paul they were just brilliant children are often left out of the <UNK> list i think because the stars that play them all grown up are such a big profile for the whole film but these children are amazing and should be praised for what they have done don't you think the whole story was so lovely because it was true and was someone's life after all that was shared with us all\""
            ]
          },
          "metadata": {
            "tags": []
          },
          "execution_count": 10
        }
      ]
    },
    {
      "cell_type": "code",
      "metadata": {
        "id": "agdYw3IINKLF",
        "colab_type": "code",
        "colab": {}
      },
      "source": [
        "train_data = keras.preprocessing.sequence.pad_sequences(train_data,\n",
        "                                                        value=word_index[\"<PAD>\"],\n",
        "                                                        padding='post',\n",
        "                                                        maxlen=256)\n",
        "\n",
        "test_data = keras.preprocessing.sequence.pad_sequences(test_data,\n",
        "                                                       value=word_index[\"<PAD>\"],\n",
        "                                                       padding='post',\n",
        "                                                       maxlen=256)"
      ],
      "execution_count": 0,
      "outputs": []
    },
    {
      "cell_type": "code",
      "metadata": {
        "id": "Ka9wmYf_NZLU",
        "colab_type": "code",
        "colab": {
          "base_uri": "https://localhost:8080/",
          "height": 357
        },
        "outputId": "42831a51-2c14-44a2-a165-4d6bf036a73c"
      },
      "source": [
        "print(train_data.shape, test_data.shape)\n",
        "print(train_data[0])"
      ],
      "execution_count": 15,
      "outputs": [
        {
          "output_type": "stream",
          "text": [
            "(25000, 256) (25000, 256)\n",
            "[   1   14   22   16   43  530  973 1622 1385   65  458 4468   66 3941\n",
            "    4  173   36  256    5   25  100   43  838  112   50  670    2    9\n",
            "   35  480  284    5  150    4  172  112  167    2  336  385   39    4\n",
            "  172 4536 1111   17  546   38   13  447    4  192   50   16    6  147\n",
            " 2025   19   14   22    4 1920 4613  469    4   22   71   87   12   16\n",
            "   43  530   38   76   15   13 1247    4   22   17  515   17   12   16\n",
            "  626   18    2    5   62  386   12    8  316    8  106    5    4 2223\n",
            " 5244   16  480   66 3785   33    4  130   12   16   38  619    5   25\n",
            "  124   51   36  135   48   25 1415   33    6   22   12  215   28   77\n",
            "   52    5   14  407   16   82    2    8    4  107  117 5952   15  256\n",
            "    4    2    7 3766    5  723   36   71   43  530  476   26  400  317\n",
            "   46    7    4    2 1029   13  104   88    4  381   15  297   98   32\n",
            " 2071   56   26  141    6  194 7486   18    4  226   22   21  134  476\n",
            "   26  480    5  144   30 5535   18   51   36   28  224   92   25  104\n",
            "    4  226   65   16   38 1334   88   12   16  283    5   16 4472  113\n",
            "  103   32   15   16 5345   19  178   32    0    0    0    0    0    0\n",
            "    0    0    0    0    0    0    0    0    0    0    0    0    0    0\n",
            "    0    0    0    0    0    0    0    0    0    0    0    0    0    0\n",
            "    0    0    0    0]\n"
          ],
          "name": "stdout"
        }
      ]
    },
    {
      "cell_type": "code",
      "metadata": {
        "id": "KsYjA3I8OTKt",
        "colab_type": "code",
        "colab": {
          "base_uri": "https://localhost:8080/",
          "height": 289
        },
        "outputId": "be4bda81-cd9b-4c04-dfa9-0f9cc8bf46fc"
      },
      "source": [
        "# 入力の形式は映画レビューで使われている語彙数（10,000語）\n",
        "vocab_size = 10000\n",
        "\n",
        "model = keras.Sequential()\n",
        "model.add(keras.layers.Embedding(vocab_size, 16)) #  batch, sequence, embedding\n",
        "model.add(keras.layers.GlobalAveragePooling1D()) # シーケンス次元方向の平均値を求め、固定長のベクトルを返す。\n",
        "model.add(keras.layers.Dense(16, activation='relu'))\n",
        "model.add(keras.layers.Dense(1, activation='sigmoid'))\n",
        "\n",
        "model.summary()"
      ],
      "execution_count": 16,
      "outputs": [
        {
          "output_type": "stream",
          "text": [
            "Model: \"sequential\"\n",
            "_________________________________________________________________\n",
            "Layer (type)                 Output Shape              Param #   \n",
            "=================================================================\n",
            "embedding (Embedding)        (None, None, 16)          160000    \n",
            "_________________________________________________________________\n",
            "global_average_pooling1d (Gl (None, 16)                0         \n",
            "_________________________________________________________________\n",
            "dense (Dense)                (None, 16)                272       \n",
            "_________________________________________________________________\n",
            "dense_1 (Dense)              (None, 1)                 17        \n",
            "=================================================================\n",
            "Total params: 160,289\n",
            "Trainable params: 160,289\n",
            "Non-trainable params: 0\n",
            "_________________________________________________________________\n"
          ],
          "name": "stdout"
        }
      ]
    },
    {
      "cell_type": "code",
      "metadata": {
        "id": "FBohdn2lRUHZ",
        "colab_type": "code",
        "colab": {}
      },
      "source": [
        "model.compile(optimizer='adam',\n",
        "              loss='binary_crossentropy',\n",
        "              metrics=['accuracy'])"
      ],
      "execution_count": 0,
      "outputs": []
    },
    {
      "cell_type": "code",
      "metadata": {
        "id": "I_Of6rhaRgNA",
        "colab_type": "code",
        "colab": {}
      },
      "source": [
        "x_val = train_data[:10000]\n",
        "partial_x_train = train_data[10000:]\n",
        "\n",
        "y_val = train_labels[:10000]\n",
        "partial_y_train = train_labels[10000:]"
      ],
      "execution_count": 0,
      "outputs": []
    },
    {
      "cell_type": "code",
      "metadata": {
        "id": "zlS_oPugRlAw",
        "colab_type": "code",
        "colab": {
          "base_uri": "https://localhost:8080/",
          "height": 1000
        },
        "outputId": "9c2622ae-123b-4054-993d-40738d29d678"
      },
      "source": [
        "history = model.fit(partial_x_train,\n",
        "                    partial_y_train,\n",
        "                    epochs=40,\n",
        "                    batch_size=512,\n",
        "                    validation_data=(x_val, y_val),\n",
        "                    verbose=1)"
      ],
      "execution_count": 19,
      "outputs": [
        {
          "output_type": "stream",
          "text": [
            "Train on 15000 samples, validate on 10000 samples\n",
            "Epoch 1/40\n",
            "15000/15000 [==============================] - 3s 206us/sample - loss: 0.6920 - accuracy: 0.5721 - val_loss: 0.6900 - val_accuracy: 0.6752\n",
            "Epoch 2/40\n",
            "15000/15000 [==============================] - 1s 45us/sample - loss: 0.6866 - accuracy: 0.7071 - val_loss: 0.6829 - val_accuracy: 0.6605\n",
            "Epoch 3/40\n",
            "15000/15000 [==============================] - 1s 44us/sample - loss: 0.6761 - accuracy: 0.7026 - val_loss: 0.6698 - val_accuracy: 0.7452\n",
            "Epoch 4/40\n",
            "15000/15000 [==============================] - 1s 43us/sample - loss: 0.6575 - accuracy: 0.7627 - val_loss: 0.6480 - val_accuracy: 0.7478\n",
            "Epoch 5/40\n",
            "15000/15000 [==============================] - 1s 42us/sample - loss: 0.6290 - accuracy: 0.7851 - val_loss: 0.6165 - val_accuracy: 0.7630\n",
            "Epoch 6/40\n",
            "15000/15000 [==============================] - 1s 46us/sample - loss: 0.5904 - accuracy: 0.8015 - val_loss: 0.5777 - val_accuracy: 0.7933\n",
            "Epoch 7/40\n",
            "15000/15000 [==============================] - 1s 44us/sample - loss: 0.5456 - accuracy: 0.8255 - val_loss: 0.5358 - val_accuracy: 0.8162\n",
            "Epoch 8/40\n",
            "15000/15000 [==============================] - 1s 42us/sample - loss: 0.4985 - accuracy: 0.8438 - val_loss: 0.4946 - val_accuracy: 0.8295\n",
            "Epoch 9/40\n",
            "15000/15000 [==============================] - 1s 44us/sample - loss: 0.4542 - accuracy: 0.8589 - val_loss: 0.4569 - val_accuracy: 0.8423\n",
            "Epoch 10/40\n",
            "15000/15000 [==============================] - 1s 42us/sample - loss: 0.4141 - accuracy: 0.8693 - val_loss: 0.4242 - val_accuracy: 0.8497\n",
            "Epoch 11/40\n",
            "15000/15000 [==============================] - 1s 42us/sample - loss: 0.3796 - accuracy: 0.8779 - val_loss: 0.3981 - val_accuracy: 0.8548\n",
            "Epoch 12/40\n",
            "15000/15000 [==============================] - 1s 43us/sample - loss: 0.3503 - accuracy: 0.8871 - val_loss: 0.3754 - val_accuracy: 0.8605\n",
            "Epoch 13/40\n",
            "15000/15000 [==============================] - 1s 43us/sample - loss: 0.3252 - accuracy: 0.8925 - val_loss: 0.3579 - val_accuracy: 0.8648\n",
            "Epoch 14/40\n",
            "15000/15000 [==============================] - 1s 45us/sample - loss: 0.3038 - accuracy: 0.8979 - val_loss: 0.3434 - val_accuracy: 0.8709\n",
            "Epoch 15/40\n",
            "15000/15000 [==============================] - 1s 43us/sample - loss: 0.2855 - accuracy: 0.9039 - val_loss: 0.3317 - val_accuracy: 0.8728\n",
            "Epoch 16/40\n",
            "15000/15000 [==============================] - 1s 43us/sample - loss: 0.2692 - accuracy: 0.9081 - val_loss: 0.3221 - val_accuracy: 0.8755\n",
            "Epoch 17/40\n",
            "15000/15000 [==============================] - 1s 47us/sample - loss: 0.2550 - accuracy: 0.9122 - val_loss: 0.3141 - val_accuracy: 0.8776\n",
            "Epoch 18/40\n",
            "15000/15000 [==============================] - 1s 45us/sample - loss: 0.2419 - accuracy: 0.9183 - val_loss: 0.3089 - val_accuracy: 0.8776\n",
            "Epoch 19/40\n",
            "15000/15000 [==============================] - 1s 44us/sample - loss: 0.2305 - accuracy: 0.9208 - val_loss: 0.3023 - val_accuracy: 0.8805\n",
            "Epoch 20/40\n",
            "15000/15000 [==============================] - 1s 41us/sample - loss: 0.2193 - accuracy: 0.9239 - val_loss: 0.2978 - val_accuracy: 0.8823\n",
            "Epoch 21/40\n",
            "15000/15000 [==============================] - 1s 47us/sample - loss: 0.2092 - accuracy: 0.9282 - val_loss: 0.2941 - val_accuracy: 0.8821\n",
            "Epoch 22/40\n",
            "15000/15000 [==============================] - 1s 46us/sample - loss: 0.2001 - accuracy: 0.9323 - val_loss: 0.2912 - val_accuracy: 0.8830\n",
            "Epoch 23/40\n",
            "15000/15000 [==============================] - 1s 48us/sample - loss: 0.1921 - accuracy: 0.9353 - val_loss: 0.2898 - val_accuracy: 0.8830\n",
            "Epoch 24/40\n",
            "15000/15000 [==============================] - 1s 45us/sample - loss: 0.1839 - accuracy: 0.9391 - val_loss: 0.2874 - val_accuracy: 0.8845\n",
            "Epoch 25/40\n",
            "15000/15000 [==============================] - 1s 43us/sample - loss: 0.1759 - accuracy: 0.9429 - val_loss: 0.2865 - val_accuracy: 0.8852\n",
            "Epoch 26/40\n",
            "15000/15000 [==============================] - 1s 41us/sample - loss: 0.1697 - accuracy: 0.9458 - val_loss: 0.2856 - val_accuracy: 0.8844\n",
            "Epoch 27/40\n",
            "15000/15000 [==============================] - 1s 43us/sample - loss: 0.1621 - accuracy: 0.9487 - val_loss: 0.2861 - val_accuracy: 0.8837\n",
            "Epoch 28/40\n",
            "15000/15000 [==============================] - 1s 42us/sample - loss: 0.1562 - accuracy: 0.9515 - val_loss: 0.2851 - val_accuracy: 0.8851\n",
            "Epoch 29/40\n",
            "15000/15000 [==============================] - 1s 44us/sample - loss: 0.1496 - accuracy: 0.9538 - val_loss: 0.2861 - val_accuracy: 0.8851\n",
            "Epoch 30/40\n",
            "15000/15000 [==============================] - 1s 43us/sample - loss: 0.1447 - accuracy: 0.9559 - val_loss: 0.2865 - val_accuracy: 0.8855\n",
            "Epoch 31/40\n",
            "15000/15000 [==============================] - 1s 41us/sample - loss: 0.1387 - accuracy: 0.9585 - val_loss: 0.2872 - val_accuracy: 0.8849\n",
            "Epoch 32/40\n",
            "15000/15000 [==============================] - 1s 43us/sample - loss: 0.1334 - accuracy: 0.9598 - val_loss: 0.2895 - val_accuracy: 0.8852\n",
            "Epoch 33/40\n",
            "15000/15000 [==============================] - 1s 43us/sample - loss: 0.1286 - accuracy: 0.9620 - val_loss: 0.2938 - val_accuracy: 0.8827\n",
            "Epoch 34/40\n",
            "15000/15000 [==============================] - 1s 43us/sample - loss: 0.1243 - accuracy: 0.9645 - val_loss: 0.2911 - val_accuracy: 0.8858\n",
            "Epoch 35/40\n",
            "15000/15000 [==============================] - 1s 42us/sample - loss: 0.1191 - accuracy: 0.9669 - val_loss: 0.2933 - val_accuracy: 0.8855\n",
            "Epoch 36/40\n",
            "15000/15000 [==============================] - 1s 42us/sample - loss: 0.1149 - accuracy: 0.9681 - val_loss: 0.2950 - val_accuracy: 0.8851\n",
            "Epoch 37/40\n",
            "15000/15000 [==============================] - 1s 43us/sample - loss: 0.1104 - accuracy: 0.9701 - val_loss: 0.2982 - val_accuracy: 0.8836\n",
            "Epoch 38/40\n",
            "15000/15000 [==============================] - 1s 43us/sample - loss: 0.1066 - accuracy: 0.9713 - val_loss: 0.3000 - val_accuracy: 0.8830\n",
            "Epoch 39/40\n",
            "15000/15000 [==============================] - 1s 42us/sample - loss: 0.1033 - accuracy: 0.9727 - val_loss: 0.3025 - val_accuracy: 0.8835\n",
            "Epoch 40/40\n",
            "15000/15000 [==============================] - 1s 42us/sample - loss: 0.0991 - accuracy: 0.9739 - val_loss: 0.3069 - val_accuracy: 0.8828\n"
          ],
          "name": "stdout"
        }
      ]
    },
    {
      "cell_type": "code",
      "metadata": {
        "id": "bsrLzB8fRyVY",
        "colab_type": "code",
        "colab": {
          "base_uri": "https://localhost:8080/",
          "height": 51
        },
        "outputId": "c47b821d-4fbf-4fe2-a5ce-34736933e632"
      },
      "source": [
        "results = model.evaluate(test_data,  test_labels, verbose=2)\n",
        "\n",
        "print(results)"
      ],
      "execution_count": 20,
      "outputs": [
        {
          "output_type": "stream",
          "text": [
            "25000/25000 - 2s - loss: 0.3249 - accuracy: 0.8729\n",
            "[0.3248636936378479, 0.87288]\n"
          ],
          "name": "stdout"
        }
      ]
    },
    {
      "cell_type": "code",
      "metadata": {
        "id": "Vgq8WzeCSFra",
        "colab_type": "code",
        "colab": {
          "base_uri": "https://localhost:8080/",
          "height": 34
        },
        "outputId": "5f191df2-922f-4531-dcad-d7661030bd84"
      },
      "source": [
        "history_dict = history.history\n",
        "history_dict.keys()"
      ],
      "execution_count": 22,
      "outputs": [
        {
          "output_type": "execute_result",
          "data": {
            "text/plain": [
              "dict_keys(['loss', 'accuracy', 'val_loss', 'val_accuracy'])"
            ]
          },
          "metadata": {
            "tags": []
          },
          "execution_count": 22
        }
      ]
    },
    {
      "cell_type": "code",
      "metadata": {
        "id": "bgA6UneIR6hq",
        "colab_type": "code",
        "colab": {
          "base_uri": "https://localhost:8080/",
          "height": 295
        },
        "outputId": "9da53ece-f1f6-4660-bba1-09ee7362b7ea"
      },
      "source": [
        "import matplotlib.pyplot as plt\n",
        "\n",
        "acc = history_dict['accuracy']\n",
        "val_acc = history_dict['val_accuracy']\n",
        "loss = history_dict['loss']\n",
        "val_loss = history_dict['val_loss']\n",
        "\n",
        "epochs = range(1, len(acc) + 1)\n",
        "\n",
        "# \"bo\" is for \"blue dot\"\n",
        "plt.plot(epochs, loss, 'bo', label='Training loss')\n",
        "# b is for \"solid blue line\"\n",
        "plt.plot(epochs, val_loss, 'b', label='Validation loss')\n",
        "plt.title('Training and validation loss')\n",
        "plt.xlabel('Epochs')\n",
        "plt.ylabel('Loss')\n",
        "plt.legend()\n",
        "\n",
        "plt.show()"
      ],
      "execution_count": 23,
      "outputs": [
        {
          "output_type": "display_data",
          "data": {
            "image/png": "[encoded data removed]",
            "text/plain": [
              "<Figure size 432x288 with 1 Axes>"
            ]
          },
          "metadata": {
            "tags": []
          }
        }
      ]
    },
    {
      "cell_type": "code",
      "metadata": {
        "id": "W6vhhEdVSMOh",
        "colab_type": "code",
        "colab": {
          "base_uri": "https://localhost:8080/",
          "height": 295
        },
        "outputId": "51c99419-6150-4aa1-c7ae-9f0f5a2f4b53"
      },
      "source": [
        "plt.clf()   # 図のクリア\n",
        "\n",
        "plt.plot(epochs, acc, 'bo', label='Training acc')\n",
        "plt.plot(epochs, val_acc, 'b', label='Validation acc')\n",
        "plt.title('Training and validation accuracy')\n",
        "plt.xlabel('Epochs')\n",
        "plt.ylabel('Accuracy')\n",
        "plt.legend()\n",
        "\n",
        "plt.show()"
      ],
      "execution_count": 24,
      "outputs": [
        {
          "output_type": "display_data",
          "data": {
            "image/png": "[encoded data removed]",
            "text/plain": [
              "<Figure size 432x288 with 1 Axes>"
            ]
          },
          "metadata": {
            "tags": []
          }
        }
      ]
    }
  ]
}